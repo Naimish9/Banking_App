{
 "cells": [
  {
   "cell_type": "code",
   "execution_count": 58,
   "id": "db91d53b-5bea-487d-bffa-cda3be561f23",
   "metadata": {},
   "outputs": [],
   "source": [
    "import mysql.connector\n",
    "import pandas as pd\n",
    "import re\n",
    "import random\n",
    "#to clear screen\n",
    "#import os\n",
    "#to cell in notebook\n",
    "from IPython.display import clear_output\n"
   ]
  },
  {
   "cell_type": "code",
   "execution_count": 3,
   "id": "7f8808cf-ddec-4c08-8440-2bb8c8b36d2c",
   "metadata": {},
   "outputs": [
    {
     "ename": "SyntaxError",
     "evalue": "invalid syntax (986617953.py, line 26)",
     "output_type": "error",
     "traceback": [
      "\u001b[0;36m  Cell \u001b[0;32mIn[3], line 26\u001b[0;36m\u001b[0m\n\u001b[0;31m    `acc_no` INT NOT NULL,\u001b[0m\n\u001b[0m    ^\u001b[0m\n\u001b[0;31mSyntaxError\u001b[0m\u001b[0;31m:\u001b[0m invalid syntax\n"
     ]
    }
   ],
   "source": [
    "# def connect_db():\n",
    "    #specify the DB, Username, Password\n",
    "mydb = mysql.connector.connect(host=\"localhost\",user=\"root\",passwd=\"Nine@123\", database=\"Bank_Sch\")\n",
    "\n",
    "cursor = mydb.cursor()\n",
    "\n",
    "    # Insert user data into the table\n",
    "sql = \"INSERT INTO acc_info (acc_no, user_name, address, aadhar_no, mobile_no, acc_pwd, acc_balance) VALUES (%s, %s, %s, %s, %s, %s, %s)\"\n",
    "val = (\n",
    "    1234567890,  # acc_no\n",
    "    \"John Doe\",  # user_name\n",
    "    \"123 Main St\",  # address\n",
    "    1234567,  # aadhar_no\n",
    "    1234567890,  # mobile_no\n",
    "    \"password123\",  # acc_pwd\n",
    "    1000.00  # acc_balance\n",
    ")\n",
    "\n",
    "\n",
    "cursor.execute(sql, val)\n",
    "\n",
    "mydb.commit()\n",
    "cursor.close()\n",
    "mydb.close()\n",
    "\n",
    "# `acc_no` INT NOT NULL,\n",
    "#   `user_name` VARCHAR(45) NOT NULL,\n",
    "#   `address` VARCHAR(100) NOT NULL,\n",
    "#   `aadhar_no` BIGINT(16) NOT NULL,\n",
    "#   `mobile_no` INT(10) NOT NULL,\n",
    "#   `acc_pwd` VARCHAR(45) NOT NULL,\n",
    "#   `acc_balance` DECIMAL(9.2) NOT NULL,"
   ]
  },
  {
   "cell_type": "code",
   "execution_count": 59,
   "id": "64991d49-fedf-4e5c-b209-0911be897c40",
   "metadata": {},
   "outputs": [],
   "source": [
    "# User Inputs:\n",
    "def register_user():\n",
    "    # Get valid input from user\n",
    "    while True:\n",
    "        user_name = input(\"Enter username (alphabets only): \")\n",
    "        if validate_username(user_name):\n",
    "            break\n",
    "        else:\n",
    "            print(\"Invalid username. Please enter alphabets only.\")\n",
    "\n",
    "    while True:\n",
    "        address = input(\"Enter address (alphanumeric with special characters): \")\n",
    "        if validate_address(address):\n",
    "            break\n",
    "        else:\n",
    "            print(\"Invalid address. Please enter alphanumeric characters with special characters.\")\n",
    "\n",
    "    while True:\n",
    "        aadhar = input(\"Enter Aadhar number (12 digits with automatic gaps insertion after every 4 digits): \")\n",
    "        aadhar_with_gaps = validate_aadhar(aadhar)\n",
    "        if aadhar_with_gaps:\n",
    "            print(\"Aadhar number with automatic gaps insertion:\")\n",
    "            print(aadhar_with_gaps)\n",
    "            break\n",
    "        else:\n",
    "            print(\"Invalid Aadhar number. Please enter 12 digits.\")\n",
    "\n",
    "    while True:\n",
    "        mobile_no = input(\"Enter mobile number (10 digits): \")\n",
    "        if validate_mobile(mobile_no):\n",
    "            break\n",
    "        else:\n",
    "            print(\"Invalid mobile number.\")\n",
    "\n",
    "    while True:\n",
    "        acc_pwd = input(\"Enter password (minimum 8 characters, alphanumeric with special characters): \")\n",
    "        if validate_password(acc_pwd):\n",
    "            break\n",
    "        else:\n",
    "            print(\"Invalid password. Password should be at least 8 characters long and contain alphanumeric characters with special charcters.\")\n",
    "\n",
    "    # Display User details after registration\n",
    "    #clean the window before displaying the details:\n",
    "    #for o/p screen\n",
    "    # os.system('clear')\n",
    "    # fro notebook (not working, skipping to the input section)\n",
    "    # clear_output(wait=True)\n",
    "\n",
    "    print(\"Registration successful!\")\n",
    "    print(\"Your Account Number: \",generate_account_number())\n",
    "    print(\"Your User Name: \",user_name)\n",
    "    print(\"Your Address: \",address)\n",
    "    print(\"Your Aadhar Number: \",aadhar)\n",
    "    print(\"Your Mobile Number: \",mobile_no)\n",
    "    print(\"Your Account Password: \",acc_pwd)\n",
    "    # print(\"Your Balance: \",user_name)        \n",
    "    "
   ]
  },
  {
   "cell_type": "code",
   "execution_count": 60,
   "id": "f1145792-f601-4c07-8d7a-e4cd7e04fb03",
   "metadata": {},
   "outputs": [],
   "source": [
    "#Account number generation:\n",
    "def generate_account_number():\n",
    "    return ''.join(random.choices('0123456789', k=random.randint(11, 14)))\n",
    "\n",
    "#Card number generation:\n",
    "def generate_card(self, card_type):\n",
    "        card_number = ''.join(random.choices('0123456789', k=16))\n",
    "        pin = ''.join(random.choices('0123456789', k=4))\n",
    "        cvv = ''.join(random.choices('0123456789', k=3))\n",
    "        return {\"type\": card_type, \"number\": card_number, \"pin\": pin, \"cvv\": cvv}"
   ]
  },
  {
   "cell_type": "code",
   "execution_count": 61,
   "id": "46562417-ba3c-4af9-8679-cbe41d34d696",
   "metadata": {},
   "outputs": [
    {
     "ename": "NameError",
     "evalue": "name 'store_in_mysql' is not defined",
     "output_type": "error",
     "traceback": [
      "\u001b[0;31m---------------------------------------------------------------------------\u001b[0m",
      "\u001b[0;31mNameError\u001b[0m                                 Traceback (most recent call last)",
      "Cell \u001b[0;32mIn[61], line 25\u001b[0m\n\u001b[1;32m     22\u001b[0m     \u001b[38;5;28;01mreturn\u001b[39;00m \u001b[38;5;28mbool\u001b[39m(re\u001b[38;5;241m.\u001b[39mmatch(\u001b[38;5;124mr\u001b[39m\u001b[38;5;124m'\u001b[39m\u001b[38;5;124m^[a-zA-Z0-9!@#$\u001b[39m\u001b[38;5;124m%\u001b[39m\u001b[38;5;124m^&*()-_+=]\u001b[39m\u001b[38;5;124m{\u001b[39m\u001b[38;5;124m8,}$\u001b[39m\u001b[38;5;124m'\u001b[39m, acc_pwd))\n\u001b[1;32m     24\u001b[0m \u001b[38;5;66;03m# Store user data in MySQL\u001b[39;00m\n\u001b[0;32m---> 25\u001b[0m \u001b[43mstore_in_mysql\u001b[49m(user, password)\n",
      "\u001b[0;31mNameError\u001b[0m: name 'store_in_mysql' is not defined"
     ]
    }
   ],
   "source": [
    "#Registed User validation:\n",
    "\n",
    "# Input validation functions\n",
    "def validate_username(user_name):\n",
    "    return bool(re.match(r'^[a-zA-Z\\s]+$', user_name))\n",
    "\n",
    "def validate_address(address):\n",
    "    return bool(re.match(r'^[a-zA-Z0-9\\s,-]+$', address))\n",
    "\n",
    "def validate_aadhar(aadhar):\n",
    "    aadhar = ''.join(filter(str.isdigit, aadhar))  \n",
    "    if len(aadhar) == 12:\n",
    "        aadhar_with_gaps = ' '.join(aadhar[i:i+4] for i in range(0, len(aadhar), 4))\n",
    "        return aadhar_with_gaps\n",
    "    else:\n",
    "        return None\n",
    "\n",
    "def validate_mobile(mobile):\n",
    "    return bool(re.match(r'^[7-9][0-9]{9}$', mobile))\n",
    "\n",
    "def validate_password(acc_pwd):\n",
    "    return bool(re.match(r'^[a-zA-Z0-9!@#$%^&*()-_+=]{8,}$', acc_pwd))\n",
    "\n",
    "# Store user data in MySQL\n",
    "store_in_mysql(user, password)"
   ]
  },
  {
   "cell_type": "markdown",
   "id": "3297f562-772a-4be4-88bd-7242768d81aa",
   "metadata": {},
   "source": [
    "Main Function:"
   ]
  },
  {
   "cell_type": "code",
   "execution_count": 62,
   "id": "d3c086c7-325f-4e27-ae71-d1a95502c766",
   "metadata": {},
   "outputs": [
    {
     "name": "stdout",
     "output_type": "stream",
     "text": [
      "Registration successful!\n",
      "Your Account Number:  54968065442273\n",
      "Your User Name:  fghjk\n",
      "Your Address:  fghjhj\n",
      "Your Aadhar Number:  123412341234\n",
      "Your Mobile Number:  7676583346\n",
      "Your Account Password:  test@1234\n",
      "Welcome to ACN NetBanking:\n",
      "1. Register\n",
      "2. Login\n",
      "3. Exit\n"
     ]
    },
    {
     "ename": "KeyboardInterrupt",
     "evalue": "Interrupted by user",
     "output_type": "error",
     "traceback": [
      "\u001b[0;31m---------------------------------------------------------------------------\u001b[0m",
      "\u001b[0;31mKeyboardInterrupt\u001b[0m                         Traceback (most recent call last)",
      "Cell \u001b[0;32mIn[62], line 21\u001b[0m\n\u001b[1;32m     19\u001b[0m             \u001b[38;5;28mprint\u001b[39m(\u001b[38;5;124m\"\u001b[39m\u001b[38;5;124mInvalid choice. Please try again.\u001b[39m\u001b[38;5;124m\"\u001b[39m)\n\u001b[1;32m     20\u001b[0m \u001b[38;5;28;01mif\u001b[39;00m \u001b[38;5;18m__name__\u001b[39m \u001b[38;5;241m==\u001b[39m \u001b[38;5;124m\"\u001b[39m\u001b[38;5;124m__main__\u001b[39m\u001b[38;5;124m\"\u001b[39m:\n\u001b[0;32m---> 21\u001b[0m     \u001b[43mmain\u001b[49m\u001b[43m(\u001b[49m\u001b[43m)\u001b[49m\n",
      "Cell \u001b[0;32mIn[62], line 8\u001b[0m, in \u001b[0;36mmain\u001b[0;34m()\u001b[0m\n\u001b[1;32m      6\u001b[0m \u001b[38;5;28mprint\u001b[39m(\u001b[38;5;124m\"\u001b[39m\u001b[38;5;124m2. Login\u001b[39m\u001b[38;5;124m\"\u001b[39m)\n\u001b[1;32m      7\u001b[0m \u001b[38;5;28mprint\u001b[39m(\u001b[38;5;124m\"\u001b[39m\u001b[38;5;124m3. Exit\u001b[39m\u001b[38;5;124m\"\u001b[39m)\n\u001b[0;32m----> 8\u001b[0m choice \u001b[38;5;241m=\u001b[39m \u001b[38;5;28;43minput\u001b[39;49m\u001b[43m(\u001b[49m\u001b[38;5;124;43m\"\u001b[39;49m\u001b[38;5;124;43mChoose an option from above to proceed: \u001b[39;49m\u001b[38;5;124;43m\"\u001b[39;49m\u001b[43m)\u001b[49m\n\u001b[1;32m     11\u001b[0m \u001b[38;5;28;01mif\u001b[39;00m choice \u001b[38;5;241m==\u001b[39m \u001b[38;5;124m'\u001b[39m\u001b[38;5;124m1\u001b[39m\u001b[38;5;124m'\u001b[39m \u001b[38;5;129;01mor\u001b[39;00m choice\u001b[38;5;241m.\u001b[39mlower(choice) \u001b[38;5;241m==\u001b[39m \u001b[38;5;124m'\u001b[39m\u001b[38;5;124mregister\u001b[39m\u001b[38;5;124m'\u001b[39m:\n\u001b[1;32m     12\u001b[0m     register_user()\n",
      "File \u001b[0;32m~/.local/lib/python3.10/site-packages/ipykernel/kernelbase.py:1282\u001b[0m, in \u001b[0;36mKernel.raw_input\u001b[0;34m(self, prompt)\u001b[0m\n\u001b[1;32m   1280\u001b[0m     msg \u001b[38;5;241m=\u001b[39m \u001b[38;5;124m\"\u001b[39m\u001b[38;5;124mraw_input was called, but this frontend does not support input requests.\u001b[39m\u001b[38;5;124m\"\u001b[39m\n\u001b[1;32m   1281\u001b[0m     \u001b[38;5;28;01mraise\u001b[39;00m StdinNotImplementedError(msg)\n\u001b[0;32m-> 1282\u001b[0m \u001b[38;5;28;01mreturn\u001b[39;00m \u001b[38;5;28;43mself\u001b[39;49m\u001b[38;5;241;43m.\u001b[39;49m\u001b[43m_input_request\u001b[49m\u001b[43m(\u001b[49m\n\u001b[1;32m   1283\u001b[0m \u001b[43m    \u001b[49m\u001b[38;5;28;43mstr\u001b[39;49m\u001b[43m(\u001b[49m\u001b[43mprompt\u001b[49m\u001b[43m)\u001b[49m\u001b[43m,\u001b[49m\n\u001b[1;32m   1284\u001b[0m \u001b[43m    \u001b[49m\u001b[38;5;28;43mself\u001b[39;49m\u001b[38;5;241;43m.\u001b[39;49m\u001b[43m_parent_ident\u001b[49m\u001b[43m[\u001b[49m\u001b[38;5;124;43m\"\u001b[39;49m\u001b[38;5;124;43mshell\u001b[39;49m\u001b[38;5;124;43m\"\u001b[39;49m\u001b[43m]\u001b[49m\u001b[43m,\u001b[49m\n\u001b[1;32m   1285\u001b[0m \u001b[43m    \u001b[49m\u001b[38;5;28;43mself\u001b[39;49m\u001b[38;5;241;43m.\u001b[39;49m\u001b[43mget_parent\u001b[49m\u001b[43m(\u001b[49m\u001b[38;5;124;43m\"\u001b[39;49m\u001b[38;5;124;43mshell\u001b[39;49m\u001b[38;5;124;43m\"\u001b[39;49m\u001b[43m)\u001b[49m\u001b[43m,\u001b[49m\n\u001b[1;32m   1286\u001b[0m \u001b[43m    \u001b[49m\u001b[43mpassword\u001b[49m\u001b[38;5;241;43m=\u001b[39;49m\u001b[38;5;28;43;01mFalse\u001b[39;49;00m\u001b[43m,\u001b[49m\n\u001b[1;32m   1287\u001b[0m \u001b[43m\u001b[49m\u001b[43m)\u001b[49m\n",
      "File \u001b[0;32m~/.local/lib/python3.10/site-packages/ipykernel/kernelbase.py:1325\u001b[0m, in \u001b[0;36mKernel._input_request\u001b[0;34m(self, prompt, ident, parent, password)\u001b[0m\n\u001b[1;32m   1322\u001b[0m \u001b[38;5;28;01mexcept\u001b[39;00m \u001b[38;5;167;01mKeyboardInterrupt\u001b[39;00m:\n\u001b[1;32m   1323\u001b[0m     \u001b[38;5;66;03m# re-raise KeyboardInterrupt, to truncate traceback\u001b[39;00m\n\u001b[1;32m   1324\u001b[0m     msg \u001b[38;5;241m=\u001b[39m \u001b[38;5;124m\"\u001b[39m\u001b[38;5;124mInterrupted by user\u001b[39m\u001b[38;5;124m\"\u001b[39m\n\u001b[0;32m-> 1325\u001b[0m     \u001b[38;5;28;01mraise\u001b[39;00m \u001b[38;5;167;01mKeyboardInterrupt\u001b[39;00m(msg) \u001b[38;5;28;01mfrom\u001b[39;00m \u001b[38;5;28;01mNone\u001b[39;00m\n\u001b[1;32m   1326\u001b[0m \u001b[38;5;28;01mexcept\u001b[39;00m \u001b[38;5;167;01mException\u001b[39;00m:\n\u001b[1;32m   1327\u001b[0m     \u001b[38;5;28mself\u001b[39m\u001b[38;5;241m.\u001b[39mlog\u001b[38;5;241m.\u001b[39mwarning(\u001b[38;5;124m\"\u001b[39m\u001b[38;5;124mInvalid Message:\u001b[39m\u001b[38;5;124m\"\u001b[39m, exc_info\u001b[38;5;241m=\u001b[39m\u001b[38;5;28;01mTrue\u001b[39;00m)\n",
      "\u001b[0;31mKeyboardInterrupt\u001b[0m: Interrupted by user"
     ]
    }
   ],
   "source": [
    "def main():\n",
    "    while True:\n",
    "        print(\"Welcome to ACN NetBanking:\")\n",
    "        \n",
    "        print(\"1. Register\")\n",
    "        print(\"2. Login\")\n",
    "        print(\"3. Exit\")\n",
    "        choice = input(\"Choose an option from above to proceed: \")\n",
    "        \n",
    "\n",
    "        if choice == '1' or choice.lower(choice) == 'register':\n",
    "            register_user()\n",
    "        elif choice == '2' or choice.lower(choice) == 'login':\n",
    "            login_user()\n",
    "        elif choice == '3' or choice.lower(choice) == 'exit':\n",
    "            print(\"Exiting...\")\n",
    "            break\n",
    "        else:\n",
    "            print(\"Invalid choice. Please try again.\")\n",
    "if __name__ == \"__main__\":\n",
    "    main()"
   ]
  },
  {
   "cell_type": "code",
   "execution_count": null,
   "id": "1438f9e1-90a4-43ff-b2c5-b0b8ca637ceb",
   "metadata": {},
   "outputs": [],
   "source": []
  }
 ],
 "metadata": {
  "kernelspec": {
   "display_name": "Python 3 (ipykernel)",
   "language": "python",
   "name": "python3"
  },
  "language_info": {
   "codemirror_mode": {
    "name": "ipython",
    "version": 3
   },
   "file_extension": ".py",
   "mimetype": "text/x-python",
   "name": "python",
   "nbconvert_exporter": "python",
   "pygments_lexer": "ipython3",
   "version": "3.10.12"
  }
 },
 "nbformat": 4,
 "nbformat_minor": 5
}
