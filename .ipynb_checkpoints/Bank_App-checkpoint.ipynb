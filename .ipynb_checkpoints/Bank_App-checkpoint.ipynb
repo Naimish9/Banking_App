{
 "cells": [
  {
   "cell_type": "code",
   "execution_count": 1,
   "id": "db91d53b-5bea-487d-bffa-cda3be561f23",
   "metadata": {},
   "outputs": [],
   "source": [
    "import mysql.connector\n",
    "import pandas as pd"
   ]
  },
  {
   "cell_type": "code",
   "execution_count": 2,
   "id": "7f8808cf-ddec-4c08-8440-2bb8c8b36d2c",
   "metadata": {},
   "outputs": [],
   "source": [
    "# def connect_db():\n",
    "    #specify the DB, Username, Password\n",
    "mydb = mysql.connector.connect(host=\"localhost\",user=\"root\",passwd=\"Nine@123\", database=\"Bank_Sch\")\n",
    "\n",
    "cursor = mydb.cursor()\n",
    "\n",
    "    # Insert user data into the table\n",
    "sql = \"INSERT INTO acc_info (acc_no, user_name, address, aadhar_no, mobile_no, acc_pwd, acc_balance) VALUES (%s, %s, %s, %s, %s, %s, %s)\"\n",
    "val = (\n",
    "    1234567890,  # acc_no\n",
    "    \"John Doe\",  # user_name\n",
    "    \"123 Main St\",  # address\n",
    "    1234567,  # aadhar_no\n",
    "    1234567890,  # mobile_no\n",
    "    \"password123\",  # acc_pwd\n",
    "    1000.00  # acc_balance\n",
    ")\n",
    "\n",
    "\n",
    "cursor.execute(sql, val)\n",
    "\n",
    "mydb.commit()\n",
    "cursor.close()\n",
    "mydb.close()\n",
    "        "
   ]
  },
  {
   "cell_type": "code",
   "execution_count": 2,
   "id": "1cb22c3f-3e8b-4bae-b299-471bc183d649",
   "metadata": {},
   "outputs": [
    {
     "name": "stdout",
     "output_type": "stream",
     "text": [
      "4\n"
     ]
    }
   ],
   "source": [
    "print(4)"
   ]
  },
  {
   "cell_type": "code",
   "execution_count": null,
   "id": "b1c85b23-0285-4347-b5a9-69085183a148",
   "metadata": {},
   "outputs": [],
   "source": []
  }
 ],
 "metadata": {
  "kernelspec": {
   "display_name": "Python 3 (ipykernel)",
   "language": "python",
   "name": "python3"
  },
  "language_info": {
   "codemirror_mode": {
    "name": "ipython",
    "version": 3
   },
   "file_extension": ".py",
   "mimetype": "text/x-python",
   "name": "python",
   "nbconvert_exporter": "python",
   "pygments_lexer": "ipython3",
   "version": "3.10.12"
  }
 },
 "nbformat": 4,
 "nbformat_minor": 5
}
