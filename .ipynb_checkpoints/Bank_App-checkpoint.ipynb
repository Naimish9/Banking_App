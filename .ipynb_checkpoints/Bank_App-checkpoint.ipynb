{
 "cells": [
  {
   "cell_type": "code",
   "execution_count": 202,
   "id": "db91d53b-5bea-487d-bffa-cda3be561f23",
   "metadata": {},
   "outputs": [],
   "source": [
    "import mysql.connector\n",
    "import pandas as pd\n",
    "import re\n",
    "import random\n",
    "#to clear screen\n",
    "#import os\n",
    "#to cell in notebook\n",
    "from IPython.display import clear_output\n"
   ]
  },
  {
   "cell_type": "markdown",
   "id": "66fa0437-7ade-44dd-b83d-6181e4e1e73b",
   "metadata": {},
   "source": [
    "Tables: acc_info (acc_no, user_name, address, aadhar_no, mobile_no, acc_pwd, acc_balance)"
   ]
  },
  {
   "cell_type": "code",
   "execution_count": 203,
   "id": "7f8808cf-ddec-4c08-8440-2bb8c8b36d2c",
   "metadata": {},
   "outputs": [],
   "source": [
    "#DB Connection:\n",
    "#Connection to lead data:\n",
    "def sql_connect_load(sql_query, values=None):\n",
    "    try:\n",
    "        connection = mysql.connector.connect(host=\"localhost\", user=\"root\", password=\"Nine@123\", database=\"Bank_Sch\")\n",
    "\n",
    "        cursor = connection.cursor()\n",
    "\n",
    "        if values is not None:\n",
    "            cursor.execute(sql_query, values)\n",
    "        else:\n",
    "            cursor.execute(sql_query)\n",
    "\n",
    "        connection.commit()\n",
    "        print(\"Query executed successfully!\")\n",
    "\n",
    "    except mysql.connector.Error as error:\n",
    "        print(\"Error while executing SQL query:\", error)\n",
    "\n",
    "    finally:\n",
    "        if 'connection' in locals() and connection.is_connected():\n",
    "            cursor.close()\n",
    "            connection.close()\n",
    "            print(\"MySQL connection is closed\")\n",
    "\n",
    "#Connection to fetch data:\n",
    "def fetch_data(sql_query, values=None):\n",
    "    try:\n",
    "        connection = mysql.connector.connect(host=\"localhost\", user=\"root\", password=\"Nine@123\", database=\"Bank_Sch\")\n",
    "\n",
    "        cursor = connection.cursor()\n",
    "\n",
    "        if values is not None:\n",
    "            cursor.execute(sql_query, values)\n",
    "        else:\n",
    "            cursor.execute(sql_query)\n",
    "\n",
    "        #For fetching the data\n",
    "        data = cursor.fetchone()\n",
    "        return data\n",
    "\n",
    "    except mysql.connector.Error as error:\n",
    "        print(\"Error while executing SQL query:\", error)\n",
    "\n",
    "    finally:\n",
    "        if 'connection' in locals() and connection.is_connected():\n",
    "            cursor.close()\n",
    "            connection.close()\n",
    "            print(\"MySQL connection is closed\")\n",
    "\n"
   ]
  },
  {
   "cell_type": "code",
   "execution_count": 204,
   "id": "64991d49-fedf-4e5c-b209-0911be897c40",
   "metadata": {},
   "outputs": [],
   "source": [
    "# User Inputs:\n",
    "def register_user():\n",
    "    # Get valid input from user\n",
    "    while True:\n",
    "        user_name = input(\"Enter username (alphabets only): \")\n",
    "        if validate_username(user_name):\n",
    "            break\n",
    "        else:\n",
    "            print(\"Invalid username. Please enter alphabets only.\")\n",
    "\n",
    "    while True:\n",
    "        address = input(\"Enter address (alphanumeric with special characters): \")\n",
    "        if validate_address(address):\n",
    "            break\n",
    "        else:\n",
    "            print(\"Invalid address. Please enter alphanumeric characters with special characters.\")\n",
    "\n",
    "    while True:\n",
    "        aadhar = input(\"Enter Aadhar number (12 digits with automatic gaps insertion after every 4 digits): \")\n",
    "        aadhar_with_gaps = validate_aadhar(aadhar)\n",
    "        if aadhar_with_gaps:\n",
    "            print(\"Aadhar number with automatic gaps insertion:\")\n",
    "            print(aadhar_with_gaps)\n",
    "            break\n",
    "        else:\n",
    "            print(\"Invalid Aadhar number. Please enter 12 digits.\")\n",
    "\n",
    "    while True:\n",
    "        mobile_no = input(\"Enter mobile number (10 digits): \")\n",
    "        if validate_mobile(mobile_no):\n",
    "            break\n",
    "        else:\n",
    "            print(\"Invalid mobile number.\")\n",
    "\n",
    "    while True:\n",
    "        acc_pwd = input(\"Enter password (minimum 8 characters, alphanumeric with special characters): \")\n",
    "        if validate_password(acc_pwd):\n",
    "            break\n",
    "        else:\n",
    "            print(\"Invalid password. Password should be at least 8 characters long and contain alphanumeric characters with special charcters.\")\n",
    "\n",
    "    # Display User details after registration\n",
    "    #clean the window before displaying the details:\n",
    "    #for o/p screen\n",
    "    # os.system('clear')\n",
    "    # fro notebook (not working, skipping to the input section)\n",
    "    # clear_output(wait=True)\n",
    "\n",
    "    print(\"Registration successful!\")\n",
    "    acc_no= generate_account_number()\n",
    "    print(\"Your Account Number: \",acc_no)\n",
    "    print(\"Your User Name: \",user_name)\n",
    "    print(\"Your Address: \",address)\n",
    "    print(\"Your Aadhar Number: \",aadhar)\n",
    "    print(\"Your Mobile Number: \",mobile_no)\n",
    "    print(\"Your Account Password: \",acc_pwd)\n",
    "    # print(\"Your Balance: \",user_name)        \n",
    "\n",
    "    details_into_db(acc_no, user_name, address, aadhar, mobile_no, acc_pwd)"
   ]
  },
  {
   "cell_type": "code",
   "execution_count": 205,
   "id": "f1145792-f601-4c07-8d7a-e4cd7e04fb03",
   "metadata": {},
   "outputs": [],
   "source": [
    "#Account number generation:\n",
    "def generate_account_number():\n",
    "    return ''.join(random.choices('0123456789', k=random.randint(11, 14)))\n",
    "\n",
    "#Card number generation:\n",
    "def generate_card(self, card_type):\n",
    "        card_number = ''.join(random.choices('0123456789', k=16))\n",
    "        pin = ''.join(random.choices('0123456789', k=4))\n",
    "        cvv = ''.join(random.choices('0123456789', k=3))\n",
    "        return {\"type\": card_type, \"number\": card_number, \"pin\": pin, \"cvv\": cvv}"
   ]
  },
  {
   "cell_type": "code",
   "execution_count": 206,
   "id": "46562417-ba3c-4af9-8679-cbe41d34d696",
   "metadata": {},
   "outputs": [],
   "source": [
    "#Registed User validation:\n",
    "\n",
    "# Input validation functions\n",
    "def validate_username(user_name):\n",
    "    return bool(re.match(r'^[a-zA-Z\\s]+$', user_name))\n",
    "\n",
    "def validate_address(address):\n",
    "    return bool(re.match(r'^[a-zA-Z0-9\\s,-]+$', address))\n",
    "\n",
    "def validate_aadhar(aadhar):\n",
    "    aadhar = ''.join(filter(str.isdigit, aadhar))  \n",
    "    if len(aadhar) == 12:\n",
    "        aadhar_with_gaps = ' '.join(aadhar[i:i+4] for i in range(0, len(aadhar), 4))\n",
    "        return aadhar_with_gaps\n",
    "    else:\n",
    "        return None\n",
    "\n",
    "def validate_mobile(mobile):\n",
    "    return bool(re.match(r'^[7-9][0-9]{9}$', mobile))\n",
    "\n",
    "def validate_password(acc_pwd):\n",
    "    return bool(re.match(r'^[a-zA-Z0-9!@#$%^&*()-_+=]{8,}$', acc_pwd))\n",
    "\n",
    "# Store user data in MySQL\n",
    "# store_in_mysql(user, password)\n",
    "# details_into_db(user_name, address, aadhar, mobile_no, password, account_number)"
   ]
  },
  {
   "cell_type": "code",
   "execution_count": 207,
   "id": "e2c9a905-a6e1-4458-94e0-4e267f37348b",
   "metadata": {},
   "outputs": [],
   "source": [
    "def details_into_db(acc_no, user_name, address, aadhar, mobile_no, acc_pwd):\n",
    "    sql_query = \"INSERT INTO acc_info (acc_no, user_name, address, aadhar_no, mobile_no, acc_pwd, acc_balance) VALUES (%s, %s, %s, %s, %s, %s, %s)\"\n",
    "    values = (acc_no, user_name, address, int(aadhar), int(mobile_no), acc_pwd, 0.0)\n",
    "    sql_connect_load(sql_query, values)"
   ]
  },
  {
   "cell_type": "code",
   "execution_count": 208,
   "id": "6998bfa8-84f4-4ca3-ad84-0ce22859b335",
   "metadata": {},
   "outputs": [],
   "source": [
    "#User login:\n",
    "def login_user():\n",
    "    user_name = input(\"Enter username: \")\n",
    "    password = input(\"Enter password: \")\n",
    "\n",
    "    sql_query = \"SELECT * FROM acc_info WHERE user_name = %s AND acc_pwd = %s\"\n",
    "    values = (user_name, password)\n",
    "\n",
    "    user = fetch_data(sql_query, values)\n",
    "\n",
    "    if user:\n",
    "        print(\"Welcome,\", user[1])\n",
    "        # Assuming there's a function called show_options to display options\n",
    "        # show_options(user)\n",
    "    else:\n",
    "        print(\"Invalid username or password.\")\n",
    "        "
   ]
  },
  {
   "cell_type": "markdown",
   "id": "3297f562-772a-4be4-88bd-7242768d81aa",
   "metadata": {},
   "source": [
    "Main Function:"
   ]
  },
  {
   "cell_type": "code",
   "execution_count": null,
   "id": "d3c086c7-325f-4e27-ae71-d1a95502c766",
   "metadata": {},
   "outputs": [
    {
     "name": "stdout",
     "output_type": "stream",
     "text": [
      "Welcome to ACN NetBanking:\n",
      "1. Register\n",
      "2. Login\n",
      "3. Exit\n"
     ]
    },
    {
     "name": "stdin",
     "output_type": "stream",
     "text": [
      "Choose an option from above to proceed:  2\n",
      "Enter username:  Naimish\n",
      "Enter password:  test@1234\n"
     ]
    },
    {
     "name": "stdout",
     "output_type": "stream",
     "text": [
      "MySQL connection is closed\n",
      "Welcome, Naimish\n",
      "Welcome to ACN NetBanking:\n",
      "1. Register\n",
      "2. Login\n",
      "3. Exit\n"
     ]
    },
    {
     "name": "stdin",
     "output_type": "stream",
     "text": [
      "Choose an option from above to proceed:  1\n",
      "Enter username (alphabets only):  Vijay\n",
      "Enter address (alphanumeric with special characters):  Jhansi, MP\n",
      "Enter Aadhar number (12 digits with automatic gaps insertion after every 4 digits):  234523452345\n"
     ]
    },
    {
     "name": "stdout",
     "output_type": "stream",
     "text": [
      "Aadhar number with automatic gaps insertion:\n",
      "2345 2345 2345\n"
     ]
    },
    {
     "name": "stdin",
     "output_type": "stream",
     "text": [
      "Enter mobile number (10 digits):  7654567654\n",
      "Enter password (minimum 8 characters, alphanumeric with special characters):  test02@1234\n"
     ]
    },
    {
     "name": "stdout",
     "output_type": "stream",
     "text": [
      "Registration successful!\n",
      "Your Account Number:  53885310605\n",
      "Your User Name:  Vijay\n",
      "Your Address:  Jhansi, MP\n",
      "Your Aadhar Number:  234523452345\n",
      "Your Mobile Number:  7654567654\n",
      "Your Account Password:  test02@1234\n",
      "Query executed successfully!\n",
      "MySQL connection is closed\n",
      "Welcome to ACN NetBanking:\n",
      "1. Register\n",
      "2. Login\n",
      "3. Exit\n"
     ]
    }
   ],
   "source": [
    "def main():\n",
    "    while True:\n",
    "        print(\"Welcome to ACN NetBanking:\")\n",
    "        \n",
    "        print(\"1. Register\")\n",
    "        print(\"2. Login\")\n",
    "        print(\"3. Exit\")\n",
    "        choice = input(\"Choose an option from above to proceed: \")\n",
    "        \n",
    "\n",
    "        if choice == '1' or choice.lower() == 'register':\n",
    "            register_user()\n",
    "        elif choice == '2' or choice.lower() == 'login':\n",
    "            login_user()\n",
    "        elif choice == '3' or choice.lower() == 'exit':\n",
    "            print(\"Exiting...\")\n",
    "            break\n",
    "        else:\n",
    "            print(\"Invalid choice. Please try again.\")\n",
    "if __name__ == \"__main__\":\n",
    "    main()"
   ]
  },
  {
   "cell_type": "code",
   "execution_count": null,
   "id": "1438f9e1-90a4-43ff-b2c5-b0b8ca637ceb",
   "metadata": {},
   "outputs": [],
   "source": [
    "Validation to run:\n",
    "on check for duplicate aadhar after entering Aadhar"
   ]
  },
  {
   "cell_type": "code",
   "execution_count": null,
   "id": "3fa26ec5-3462-4f6b-ae96-8936bf70f7c8",
   "metadata": {},
   "outputs": [],
   "source": []
  }
 ],
 "metadata": {
  "kernelspec": {
   "display_name": "Python 3 (ipykernel)",
   "language": "python",
   "name": "python3"
  },
  "language_info": {
   "codemirror_mode": {
    "name": "ipython",
    "version": 3
   },
   "file_extension": ".py",
   "mimetype": "text/x-python",
   "name": "python",
   "nbconvert_exporter": "python",
   "pygments_lexer": "ipython3",
   "version": "3.10.12"
  }
 },
 "nbformat": 4,
 "nbformat_minor": 5
}
